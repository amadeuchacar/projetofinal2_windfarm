{
 "cells": [
  {
   "cell_type": "markdown",
   "id": "1bf6aa78",
   "metadata": {},
   "source": [
    "# Projeto Final II - Criação de produtor de dados\n",
    "Produtor simulando um sensor de potência que gera valores entre 70 e 80."
   ]
  },
  {
   "cell_type": "markdown",
   "id": "8ac080f6",
   "metadata": {},
   "source": [
    "## Preparando ambiente"
   ]
  },
  {
   "cell_type": "code",
   "execution_count": null,
   "id": "9f8b42f9",
   "metadata": {},
   "outputs": [],
   "source": [
    "!pip install boto3"
   ]
  },
  {
   "cell_type": "code",
   "execution_count": null,
   "id": "00d3cf56",
   "metadata": {},
   "outputs": [],
   "source": [
    "!pip install python-dotenv"
   ]
  },
  {
   "cell_type": "code",
   "execution_count": null,
   "id": "65b66862",
   "metadata": {},
   "outputs": [],
   "source": [
    "# Importa um método da biblioteca dotenv\n",
    "from dotenv import load_dotenv\n",
    "import os\n",
    "\n",
    "# Carrega as variáveis de ambiente do arquivo .env\n",
    "load_dotenv()"
   ]
  },
  {
   "cell_type": "code",
   "execution_count": null,
   "id": "4a6d77da",
   "metadata": {},
   "outputs": [],
   "source": [
    "aws_access_key_id = os.environ.get('AWS_ACCESS_KEY_ID')\n",
    "aws_secret_access_key = os.environ.get('AWS_SECRET_ACCESS_KEY')\n",
    "region_name = os.environ.get('REGION_NAME')\n",
    "data_stream_name = os.environ.get('DATA_STREAM_NAME')\n",
    "partition_key = os.environ.get('PARTITION_KEY')"
   ]
  },
  {
   "cell_type": "markdown",
   "id": "227ae66f",
   "metadata": {},
   "source": [
    "## Criar o produtor de dados e entregar para o stream do Kinesis Data Stream"
   ]
  },
  {
   "cell_type": "code",
   "execution_count": null,
   "id": "760b0615",
   "metadata": {},
   "outputs": [],
   "source": [
    "import boto3\n",
    "import json\n",
    "from random import uniform\n",
    "import time\n",
    "from datetime import datetime\n",
    "\n",
    "# criar um cliente do boto3 para o kinesis, definindo as chaves de acesso e a região\n",
    "cliente = boto3.client('kinesis', aws_access_key_id=aws_access_key_id, aws_secret_access_key=aws_secret_access_key,\n",
    "                      region_name=region_name)\n",
    "\n",
    "# criando registros aleatórios, com valores entre 0 e 1\n",
    "id = 0 # identificador de registros, será incrementado no laço abaixo\n",
    "\n",
    "while True:\n",
    "    dado_sensor = uniform(70, 80) # gera dados aleatórios de forma uniforme entre 0.7 e 1\n",
    "    id += 1 # incrementa o id\n",
    "    # gerar os registros necessários de acordo com a estrutura pedida pelo enunciado\n",
    "    registro = {'idtemp': str(id),\n",
    "               'data': str(dado_sensor),\n",
    "               'type': 'hydraulicpressure',\n",
    "               'timestamp': str(datetime.now())\n",
    "               }\n",
    "    # jogar para o kinesis data stream os registros gerados, via cliente do boto3 criado\n",
    "    cliente.put_record(StreamName = data_stream_name,\n",
    "                      Data = json.dumps(registro),\n",
    "                      PartitionKey = partition_key)\n",
    "    \n",
    "    time.sleep(10) # envia dados a cada 10 segundos\n",
    "    print(registro)"
   ]
  }
 ],
 "metadata": {
  "kernelspec": {
   "display_name": "Python 3",
   "language": "python",
   "name": "python3"
  },
  "language_info": {
   "codemirror_mode": {
    "name": "ipython",
    "version": 3
   },
   "file_extension": ".py",
   "mimetype": "text/x-python",
   "name": "python",
   "nbconvert_exporter": "python",
   "pygments_lexer": "ipython3",
   "version": "3.8.8"
  }
 },
 "nbformat": 4,
 "nbformat_minor": 5
}
